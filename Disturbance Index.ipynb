{
 "cells": [
  {
   "cell_type": "code",
   "execution_count": 1,
   "id": "3625c0c0",
   "metadata": {},
   "outputs": [
    {
     "name": "stdout",
     "output_type": "stream",
     "text": [
      "This Notebook was produced with the following versions:\n",
      "Python version: 3.12.3 | packaged by conda-forge | (main, Apr 15 2024, 18:20:11) [MSC v.1938 64 bit (AMD64)]\n",
      "Numpy version: 1.26.4\n"
     ]
    }
   ],
   "source": [
    "# This is what we gonna use to test our masterpiece\n",
    "import sys\n",
    "import numpy as np\n",
    "import matplotlib.pyplot as plt\n",
    "\n",
    "print(\"This Notebook was produced with the following versions:\")\n",
    "print(f\"Python version: {sys.version}\")\n",
    "print(f\"Numpy version: {np.__version__}\")\n"
   ]
  },
  {
   "cell_type": "markdown",
   "id": "e425396b",
   "metadata": {},
   "source": [
    "# Sediment Disturbance Index (SDI)\n",
    "\n",
    "> The SDI considers both the magnitude and frequency of force exerted on the seabed by disturbance events (in this case by combined waves and currents, τcw) and quantifies that force regardless of mobilisation. The approach to defining SDI adopted from Li et al. (2015) calculates index values at each grid point as the maximum value of the function (τcw)1.5P, with P the point-dependent probability distribution of τcw. \n",
    "\n",
    "[A new seabed mobility index for the Irish Sea](https://www.sciencedirect.com/science/article/pii/S0278434321002302#:~:text=The%20SDI%20considers,%CF%84cw)\n",
    "\n"
   ]
  },
  {
   "cell_type": "code",
   "execution_count": 42,
   "id": "b28a308e",
   "metadata": {},
   "outputs": [
    {
     "name": "stdout",
     "output_type": "stream",
     "text": [
      "Combined Bed shear stress: (0.03, 0.05, 0.05, 0.04)\n"
     ]
    }
   ],
   "source": [
    "# Bed shear stress induced by combined waves and currents (N/m^2)\n",
    "tmax_var = 0.03, 0.05, 0.05, 0.04\n",
    "\n",
    "print(f\"Combined Bed shear stress: {tmax_var}\")"
   ]
  },
  {
   "cell_type": "markdown",
   "id": "cbcbc618",
   "metadata": {},
   "source": [
    "\n",
    "<div style=\"display: flex; align-items: flex-start; justify-content: space-between;\">\n",
    "\n",
    "<div style=\"width: 80%; padding-right: 20px;\">\n",
    "\n",
    "\n",
    "### **Things to consider:**\n",
    "\n",
    "- For highly skewed data, binning methods may not capture important features while np.unique ensures results are independent of binning algorithm choices\n",
    "- With very small samples, exact values are almost always preferable, but for datasets with millions of unique values, binning may be necessary\n",
    "\n",
    "1. Go with the np.unique(method 3)? If not:\n",
    "- Is the `density` true or false?\n",
    "- Binning? Auto or allow user control of the bin number?\n",
    "2. Multiply by 100 or not?\n",
    "\n",
    "</div>\n",
    "\n",
    "<div style=\"width: 30%;\">\n",
    "<img src=\"https://encrypted-tbn0.gstatic.com/images?q=tbn:ANd9GcSzPrstS_sYkMdKQlfBsUlhr-U1ckW2CZLxCg&s\" alt=\"Soil Texture Triangle\" width=\"100%\"/>\n",
    "\n",
    "</div>\n",
    "\n",
    "</div>"
   ]
  },
  {
   "cell_type": "markdown",
   "id": "a6cedbcb",
   "metadata": {},
   "source": [
    "> **density**: *bool*, optional  \n",
    "> - If `False`, the result will contain the number of samples in each bin.  \n",
    "> - If `True`, the result is the value of the probability density function at the bin,  \n",
    ">   normalized so that the integral over the range is 1. Note that the sum of the histogram  <br>\n",
    ">   values will not be equal to 1 unless bins of unity width are chosen; <br>\n",
    ">   it is not a probability mass function.\n",
    "\n",
    "\n",
    "[NumPy doc](https://numpy.org/doc/2.1/reference/generated/numpy.histogram.html#:~:text=densitybool%2C%20optional,probability%20mass%20function.)\n"
   ]
  },
  {
   "cell_type": "markdown",
   "id": "c0a2fc27",
   "metadata": {},
   "source": [
    "Uses NumPy automatic bin selection with density=False (raw frequency counts); automatically optimises bin width; handles large datasets well. Bin centers may not align with actual data values."
   ]
  },
  {
   "cell_type": "code",
   "execution_count": 43,
   "id": "07544637",
   "metadata": {},
   "outputs": [
    {
     "name": "stdout",
     "output_type": "stream",
     "text": [
      "Number of bins: 3\n",
      "Bin edges 4, [0.03       0.03666667 0.04333333 0.05      ]\n",
      "Bin centers 3, [0.03333333 0.04       0.04666667]\n",
      "\n",
      "Counts (density=False): {3} [1 1 2]\n",
      "Probability (P): [0.25 0.25 0.5 ]\n",
      "Sum of P: 1.0\n",
      "\n",
      "SDI all: {3} [0.00152145 0.002      0.00504058]\n",
      "Max SDI: 0.00504057609876167\n"
     ]
    },
    {
     "data": {
      "image/png": "[encoded data removed]",
      "text/plain": [
       "<Figure size 800x550 with 1 Axes>"
      ]
     },
     "metadata": {},
     "output_type": "display_data"
    }
   ],
   "source": [
    "# METHOD 1: Auto Binning with Density=False\n",
    "\n",
    "counts_m1, bin_edges_m1 = np.histogram(tmax_var, bins='auto', density=False)\n",
    "bin_centers_m1 = 0.5 * (bin_edges_m1[:-1] + bin_edges_m1[1:])\n",
    "P_m1 = counts_m1 / counts_m1.sum()   # Normalize density to get PMF\n",
    "sdi_m1 = (bin_centers_m1**1.5) * P_m1\n",
    "total_sdi_m1 = sdi_m1.sum()\n",
    "\n",
    "# Debugging info\n",
    "print(f\"Number of bins: {len(bin_edges_m1)-1}\")\n",
    "print(f\"Bin edges {len(bin_edges_m1)}, {bin_edges_m1}\")\n",
    "print(f\"Bin centers {len(bin_centers_m1)}, {bin_centers_m1}\")\n",
    "print(\"\\nCounts (density=False):\", {len(counts_m1)}, counts_m1)\n",
    "print(\"Probability (P):\", P_m1)\n",
    "print(f\"Sum of P: {P_m1.sum()}\")\n",
    "print(\"\\nSDI all:\", {len(sdi_m1)}, sdi_m1)\n",
    "print(\"Max SDI:\", sdi_m1.max())\n",
    "\n",
    "# Plotting the histogram\n",
    "with plt.style.context('seaborn-v0_8'):\n",
    "    plt.hist(tmax_var, bins=bin_edges_m1, density=False, alpha=0.5, color='skyblue', edgecolor='black')\n",
    "    plt.show()"
   ]
  },
  {
   "cell_type": "markdown",
   "id": "eaf94afc",
   "metadata": {},
   "source": [
    "Consistent binning across all cells. Density-based probabilities (density=True)"
   ]
  },
  {
   "cell_type": "code",
   "execution_count": 44,
   "id": "81537c5c",
   "metadata": {},
   "outputs": [
    {
     "name": "stdout",
     "output_type": "stream",
     "text": [
      "Sum of heights * bin widths = 1.0\n",
      "Number of bins: 3\n",
      "Bin edges:4, [0.03       0.03666667 0.04333333 0.05      ]\n",
      "Bin centers 3, [0.03333333 0.04       0.04666667]\n",
      "\n",
      "Counts (density=False): {3} [37.5 37.5 75. ]\n",
      "Probability (P): [0.25 0.25 0.5 ]\n",
      "Sum of P: 1.0\n",
      "\n",
      "SDI all: {3} [0.00152145 0.002      0.00504058]\n",
      "Max SDI: 0.00504057609876167\n"
     ]
    },
    {
     "data": {
      "image/png": "[encoded data removed]",
      "text/plain": [
       "<Figure size 800x550 with 1 Axes>"
      ]
     },
     "metadata": {},
     "output_type": "display_data"
    }
   ],
   "source": [
    "# METHOD 2: Fixed Binning with Density=True\n",
    "\n",
    "counts_m2, bin_edges_m2 = np.histogram(tmax_var, bins='auto', density=True)\n",
    "bin_centers_m2 = 0.5 * (bin_edges_m2[:-1] + bin_edges_m2[1:])\n",
    "\n",
    "# Verify that the area under the histogram is 1\n",
    "widths = np.diff(bin_edges_m2)\n",
    "area = (counts_m2 * widths).sum()\n",
    "print(\"Sum of heights * bin widths =\", area)\n",
    "\n",
    "# Calculate PMF from density\n",
    "P_m2 = counts_m2 * widths\n",
    "sdi_m2 = (bin_centers_m2**1.5) * P_m2\n",
    "total_sdi_m2 = sdi_m2.sum()\n",
    "\n",
    "# Debugging info\n",
    "print(f\"Number of bins: {len(bin_edges_m2)-1}\")\n",
    "print(f\"Bin edges:{len(bin_edges_m2)}, {bin_edges_m2}\")\n",
    "print(f\"Bin centers {len(bin_centers_m2)}, {bin_centers_m2}\")\n",
    "print(\"\\nCounts (density=False):\", {len(counts_m2)}, counts_m2)\n",
    "print(\"Probability (P):\", P_m2)\n",
    "print(f\"Sum of P: {P_m2.sum()}\")\n",
    "print(\"\\nSDI all:\", {len(sdi_m2)}, sdi_m2)\n",
    "print(\"Max SDI:\", sdi_m2.max())\n",
    "\n",
    "# Plotting the histogram\n",
    "with plt.style.context('seaborn-v0_8'):\n",
    "    plt.hist(tmax_var, bins=bin_edges_m2, density=True, alpha=0.7, color='lightgreen', edgecolor='black')\n",
    "    plt.show()"
   ]
  },
  {
   "cell_type": "markdown",
   "id": "07a6c3f2",
   "metadata": {},
   "source": [
    "\n",
    "Uses actual data values without any binning. May be computationally intensive for very large datasets with many unique values. [NumPy Doc](https://numpy.org/doc/stable/reference/generated/numpy.unique.html)"
   ]
  },
  {
   "cell_type": "code",
   "execution_count": 45,
   "id": "3085d9b2",
   "metadata": {},
   "outputs": [
    {
     "name": "stdout",
     "output_type": "stream",
     "text": [
      "\n",
      "Counts (density=False): {3} [1 1 2]\n",
      "Probability (P): [0.25 0.25 0.5 ]\n",
      "Sum of P: 1.0\n",
      "\n",
      "SDI all: {3} [0.00129904 0.002      0.00559017]\n",
      "Max SDI: 0.005590169943749475\n"
     ]
    },
    {
     "data": {
      "image/png": "[encoded data removed]",
      "text/plain": [
       "<Figure size 800x550 with 1 Axes>"
      ]
     },
     "metadata": {},
     "output_type": "display_data"
    }
   ],
   "source": [
    "# METHOD 3: Exact Values (No Binning)\n",
    "\n",
    "# Calculate SDI using exact values instead of histogram\n",
    "unique_vals_m3, counts_m3 = np.unique(tmax_var, return_counts=True)\n",
    "P_m3 = counts_m3 / len(tmax_var)\n",
    "sdi_m3 = (np.array(unique_vals_m3)**1.5) * P_m3\n",
    "total_sdi_m3 = sdi_m3.sum()\n",
    "\n",
    "# Debugging info\n",
    "print(\"\\nCounts (density=False):\", {len(counts_m3)}, counts_m3)\n",
    "print(\"Probability (P):\", P_m3)\n",
    "print(f\"Sum of P: {P_m3.sum()}\")\n",
    "print(\"\\nSDI all:\", {len(sdi_m3)}, sdi_m3)\n",
    "print(\"Max SDI:\", sdi_m3.max())\n",
    "\n",
    "# Plotting the histogram\n",
    "with plt.style.context('seaborn-v0_8'):\n",
    "    plt.hist(tmax_var, density=False, alpha=0.7, color='lightpink', edgecolor='black')\n",
    "    plt.show()\n"
   ]
  },
  {
   "cell_type": "code",
   "execution_count": 46,
   "id": "25036589",
   "metadata": {},
   "outputs": [
    {
     "name": "stdout",
     "output_type": "stream",
     "text": [
      "\n",
      "Counts (density=False): {3} [1 1 2]\n",
      "Probability (P): [0.25 0.25 0.5 ]\n",
      "Sum of P: 1.0\n",
      "\n",
      "SDI all: {3} [0.12990381 0.2        0.55901699]\n",
      "Max SDI: 0.5590169943749476\n"
     ]
    },
    {
     "data": {
      "image/png": "[encoded data removed]",
      "text/plain": [
       "<Figure size 800x550 with 1 Axes>"
      ]
     },
     "metadata": {},
     "output_type": "display_data"
    }
   ],
   "source": [
    "# METHOD 3: Exact Values (No Binning)\n",
    "\n",
    "# Calculate SDI using exact values instead of histogram\n",
    "unique_vals_m3, counts_m3 = np.unique(tmax_var, return_counts=True)\n",
    "P_m3 = counts_m3 / len(tmax_var)\n",
    "sdi_m3 = (np.array(unique_vals_m3)**1.5) * (P_m3 * 100)\n",
    "total_sdi_m3 = sdi_m3.sum()\n",
    "\n",
    "# Debugging info\n",
    "print(\"\\nCounts (density=False):\", {len(counts_m3)}, counts_m3)\n",
    "print(\"Probability (P):\", P_m3)\n",
    "print(f\"Sum of P: {P_m3.sum()}\")\n",
    "print(\"\\nSDI all:\", {len(sdi_m3)}, sdi_m3)\n",
    "print(\"Max SDI:\", sdi_m3.max())\n",
    "\n",
    "# Plotting the histogram\n",
    "with plt.style.context('seaborn-v0_8'):\n",
    "    plt.hist(tmax_var, density=False, alpha=0.5, color='orange', edgecolor='black')\n",
    "    plt.show()"
   ]
  },
  {
   "cell_type": "code",
   "execution_count": 47,
   "id": "a6103965",
   "metadata": {},
   "outputs": [
    {
     "data": {
      "text/plain": [
       "True"
      ]
     },
     "execution_count": 47,
     "metadata": {},
     "output_type": "execute_result"
    }
   ],
   "source": [
    "# Compare if arrays are exactly equal\n",
    "np.array_equal(sdi_m1, sdi_m2) "
   ]
  },
  {
   "cell_type": "code",
   "execution_count": 48,
   "id": "e6eb4db0",
   "metadata": {},
   "outputs": [
    {
     "data": {
      "text/plain": [
       "False"
      ]
     },
     "execution_count": 48,
     "metadata": {},
     "output_type": "execute_result"
    }
   ],
   "source": [
    "# Compare with tolerance\n",
    "np.allclose(sdi_m1, sdi_m3, rtol=1e-06, atol=1e-06)"
   ]
  },
  {
   "cell_type": "code",
   "execution_count": 49,
   "id": "b12b5fbd",
   "metadata": {},
   "outputs": [
    {
     "name": "stdout",
     "output_type": "stream",
     "text": [
      "Indices with mismatch: (array([0, 1, 2], dtype=int64),)\n",
      "smi1: [0.00152145 0.002      0.00504058]\n",
      "smi2: [0.00152145 0.002      0.00504058]\n",
      "smi3: [0.12990381 0.2        0.55901699]\n"
     ]
    }
   ],
   "source": [
    "# Element-wise comparison\n",
    "diff_idx = np.where(~((sdi_m1 == sdi_m2) & (sdi_m2 == sdi_m3)))\n",
    "print(\"Indices with mismatch:\", diff_idx)\n",
    "print(\"smi1:\", sdi_m1[diff_idx])\n",
    "print(\"smi2:\", sdi_m2[diff_idx])\n",
    "print(\"smi3:\", sdi_m3[diff_idx])"
   ]
  },
  {
   "cell_type": "code",
   "execution_count": null,
   "id": "527a0cd2",
   "metadata": {},
   "outputs": [],
   "source": []
  }
 ],
 "metadata": {
  "kernelspec": {
   "display_name": "sedmobbedenv",
   "language": "python",
   "name": "python3"
  },
  "language_info": {
   "codemirror_mode": {
    "name": "ipython",
    "version": 3
   },
   "file_extension": ".py",
   "mimetype": "text/x-python",
   "name": "python",
   "nbconvert_exporter": "python",
   "pygments_lexer": "ipython3",
   "version": "3.12.3"
  }
 },
 "nbformat": 4,
 "nbformat_minor": 5
}
